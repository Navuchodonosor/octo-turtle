{
 "cells": [
  {
   "cell_type": "markdown",
   "metadata": {},
   "source": [
    "## Предобработка данных и логистическая регрессия для задачи бинарной классификации"
   ]
  },
  {
   "cell_type": "markdown",
   "metadata": {},
   "source": [
    "## Programming assignment"
   ]
  },
  {
   "cell_type": "markdown",
   "metadata": {},
   "source": [
    "В задании вам будет предложено ознакомиться с основными техниками предобработки данных, а так же применить их для обучения модели логистической регрессии. Ответ потребуется загрузить в соответствующую форму в виде 6 текстовых файлов."
   ]
  },
  {
   "cell_type": "code",
   "execution_count": 1,
   "metadata": {
    "collapsed": true
   },
   "outputs": [],
   "source": [
    "import pandas as pd\n",
    "import numpy as np\n",
    "import matplotlib\n",
    "from matplotlib import pyplot as plt\n",
    "matplotlib.style.use('ggplot')\n",
    "%matplotlib inline"
   ]
  },
  {
   "cell_type": "markdown",
   "metadata": {},
   "source": [
    "## Описание датасета"
   ]
  },
  {
   "cell_type": "markdown",
   "metadata": {},
   "source": [
    "Задача: по 38 признакам, связанных с заявкой на грант (область исследований учёных, информация по их академическому бэкграунду, размер гранта, область, в которой он выдаётся) предсказать, будет ли заявка принята. Датасет включает в себя информацию по 6000 заявкам на гранты, которые были поданы в университете Мельбурна в период с 2004 по 2008 год.\n",
    "\n",
    "Полную версию данных с большим количеством признаков можно найти на https://www.kaggle.com/c/unimelb."
   ]
  },
  {
   "cell_type": "code",
   "execution_count": 2,
   "metadata": {
    "collapsed": false
   },
   "outputs": [
    {
     "data": {
      "text/plain": [
       "(6000, 39)"
      ]
     },
     "execution_count": 2,
     "metadata": {},
     "output_type": "execute_result"
    }
   ],
   "source": [
    "data = pd.read_csv('data.csv')\n",
    "data.shape"
   ]
  },
  {
   "cell_type": "code",
   "execution_count": 3,
   "metadata": {
    "collapsed": false
   },
   "outputs": [],
   "source": [
    "X = data.drop('Grant.Status', 1)\n",
    "y = data['Grant.Status']"
   ]
  },
  {
   "cell_type": "markdown",
   "metadata": {},
   "source": [
    "## Предобработка данных"
   ]
  },
  {
   "cell_type": "markdown",
   "metadata": {},
   "source": [
    "Базовым этапом в предобработке любого датасета для логистической регрессии будет кодирование категориальных признаков, а так же удаление или интерпретация пропущенных значений (при наличии того или другого)."
   ]
  },
  {
   "cell_type": "code",
   "execution_count": 4,
   "metadata": {
    "collapsed": false
   },
   "outputs": [
    {
     "data": {
      "text/html": [
       "<div>\n",
       "<table border=\"1\" class=\"dataframe\">\n",
       "  <thead>\n",
       "    <tr style=\"text-align: right;\">\n",
       "      <th></th>\n",
       "      <th>Grant.Status</th>\n",
       "      <th>Sponsor.Code</th>\n",
       "      <th>Grant.Category.Code</th>\n",
       "      <th>Contract.Value.Band...see.note.A</th>\n",
       "      <th>RFCD.Code.1</th>\n",
       "      <th>RFCD.Percentage.1</th>\n",
       "      <th>RFCD.Code.2</th>\n",
       "      <th>RFCD.Percentage.2</th>\n",
       "      <th>RFCD.Code.3</th>\n",
       "      <th>RFCD.Percentage.3</th>\n",
       "      <th>...</th>\n",
       "      <th>Dept.No..1</th>\n",
       "      <th>Faculty.No..1</th>\n",
       "      <th>With.PHD.1</th>\n",
       "      <th>No..of.Years.in.Uni.at.Time.of.Grant.1</th>\n",
       "      <th>Number.of.Successful.Grant.1</th>\n",
       "      <th>Number.of.Unsuccessful.Grant.1</th>\n",
       "      <th>A..1</th>\n",
       "      <th>A.1</th>\n",
       "      <th>B.1</th>\n",
       "      <th>C.1</th>\n",
       "    </tr>\n",
       "  </thead>\n",
       "  <tbody>\n",
       "    <tr>\n",
       "      <th>0</th>\n",
       "      <td>1</td>\n",
       "      <td>21A</td>\n",
       "      <td>50A</td>\n",
       "      <td>A</td>\n",
       "      <td>230202.0</td>\n",
       "      <td>50.0</td>\n",
       "      <td>230203.0</td>\n",
       "      <td>30.0</td>\n",
       "      <td>230204.0</td>\n",
       "      <td>20.0</td>\n",
       "      <td>...</td>\n",
       "      <td>3098.0</td>\n",
       "      <td>31.0</td>\n",
       "      <td>Yes</td>\n",
       "      <td>&gt;=0 to 5</td>\n",
       "      <td>2.0</td>\n",
       "      <td>0.0</td>\n",
       "      <td>0.0</td>\n",
       "      <td>4.0</td>\n",
       "      <td>2.0</td>\n",
       "      <td>0.0</td>\n",
       "    </tr>\n",
       "    <tr>\n",
       "      <th>1</th>\n",
       "      <td>1</td>\n",
       "      <td>4D</td>\n",
       "      <td>10A</td>\n",
       "      <td>D</td>\n",
       "      <td>320801.0</td>\n",
       "      <td>100.0</td>\n",
       "      <td>0.0</td>\n",
       "      <td>0.0</td>\n",
       "      <td>0.0</td>\n",
       "      <td>0.0</td>\n",
       "      <td>...</td>\n",
       "      <td>2553.0</td>\n",
       "      <td>25.0</td>\n",
       "      <td>Yes</td>\n",
       "      <td>&gt;=0 to 5</td>\n",
       "      <td>3.0</td>\n",
       "      <td>1.0</td>\n",
       "      <td>0.0</td>\n",
       "      <td>2.0</td>\n",
       "      <td>0.0</td>\n",
       "      <td>0.0</td>\n",
       "    </tr>\n",
       "    <tr>\n",
       "      <th>2</th>\n",
       "      <td>0</td>\n",
       "      <td>NaN</td>\n",
       "      <td>NaN</td>\n",
       "      <td>NaN</td>\n",
       "      <td>320602.0</td>\n",
       "      <td>50.0</td>\n",
       "      <td>321004.0</td>\n",
       "      <td>30.0</td>\n",
       "      <td>321015.0</td>\n",
       "      <td>20.0</td>\n",
       "      <td>...</td>\n",
       "      <td>2813.0</td>\n",
       "      <td>25.0</td>\n",
       "      <td>NaN</td>\n",
       "      <td>Less than 0</td>\n",
       "      <td>1.0</td>\n",
       "      <td>5.0</td>\n",
       "      <td>0.0</td>\n",
       "      <td>7.0</td>\n",
       "      <td>2.0</td>\n",
       "      <td>0.0</td>\n",
       "    </tr>\n",
       "    <tr>\n",
       "      <th>3</th>\n",
       "      <td>0</td>\n",
       "      <td>51C</td>\n",
       "      <td>20C</td>\n",
       "      <td>A</td>\n",
       "      <td>291503.0</td>\n",
       "      <td>60.0</td>\n",
       "      <td>321402.0</td>\n",
       "      <td>40.0</td>\n",
       "      <td>0.0</td>\n",
       "      <td>0.0</td>\n",
       "      <td>...</td>\n",
       "      <td>2553.0</td>\n",
       "      <td>25.0</td>\n",
       "      <td>NaN</td>\n",
       "      <td>more than 15</td>\n",
       "      <td>2.0</td>\n",
       "      <td>1.0</td>\n",
       "      <td>5.0</td>\n",
       "      <td>6.0</td>\n",
       "      <td>9.0</td>\n",
       "      <td>1.0</td>\n",
       "    </tr>\n",
       "    <tr>\n",
       "      <th>4</th>\n",
       "      <td>0</td>\n",
       "      <td>24D</td>\n",
       "      <td>30B</td>\n",
       "      <td>NaN</td>\n",
       "      <td>380107.0</td>\n",
       "      <td>100.0</td>\n",
       "      <td>0.0</td>\n",
       "      <td>0.0</td>\n",
       "      <td>0.0</td>\n",
       "      <td>0.0</td>\n",
       "      <td>...</td>\n",
       "      <td>2923.0</td>\n",
       "      <td>25.0</td>\n",
       "      <td>NaN</td>\n",
       "      <td>Less than 0</td>\n",
       "      <td>0.0</td>\n",
       "      <td>2.0</td>\n",
       "      <td>0.0</td>\n",
       "      <td>0.0</td>\n",
       "      <td>0.0</td>\n",
       "      <td>0.0</td>\n",
       "    </tr>\n",
       "  </tbody>\n",
       "</table>\n",
       "<p>5 rows × 39 columns</p>\n",
       "</div>"
      ],
      "text/plain": [
       "   Grant.Status Sponsor.Code Grant.Category.Code  \\\n",
       "0             1          21A                 50A   \n",
       "1             1           4D                 10A   \n",
       "2             0          NaN                 NaN   \n",
       "3             0          51C                 20C   \n",
       "4             0          24D                 30B   \n",
       "\n",
       "  Contract.Value.Band...see.note.A  RFCD.Code.1  RFCD.Percentage.1  \\\n",
       "0                               A      230202.0               50.0   \n",
       "1                               D      320801.0              100.0   \n",
       "2                              NaN     320602.0               50.0   \n",
       "3                               A      291503.0               60.0   \n",
       "4                              NaN     380107.0              100.0   \n",
       "\n",
       "   RFCD.Code.2  RFCD.Percentage.2  RFCD.Code.3  RFCD.Percentage.3 ...   \\\n",
       "0     230203.0               30.0     230204.0               20.0 ...    \n",
       "1          0.0                0.0          0.0                0.0 ...    \n",
       "2     321004.0               30.0     321015.0               20.0 ...    \n",
       "3     321402.0               40.0          0.0                0.0 ...    \n",
       "4          0.0                0.0          0.0                0.0 ...    \n",
       "\n",
       "   Dept.No..1  Faculty.No..1  With.PHD.1  \\\n",
       "0      3098.0           31.0        Yes    \n",
       "1      2553.0           25.0        Yes    \n",
       "2      2813.0           25.0         NaN   \n",
       "3      2553.0           25.0         NaN   \n",
       "4      2923.0           25.0         NaN   \n",
       "\n",
       "   No..of.Years.in.Uni.at.Time.of.Grant.1  Number.of.Successful.Grant.1  \\\n",
       "0                                >=0 to 5                           2.0   \n",
       "1                                >=0 to 5                           3.0   \n",
       "2                             Less than 0                           1.0   \n",
       "3                            more than 15                           2.0   \n",
       "4                             Less than 0                           0.0   \n",
       "\n",
       "   Number.of.Unsuccessful.Grant.1  A..1  A.1  B.1  C.1  \n",
       "0                             0.0   0.0  4.0  2.0  0.0  \n",
       "1                             1.0   0.0  2.0  0.0  0.0  \n",
       "2                             5.0   0.0  7.0  2.0  0.0  \n",
       "3                             1.0   5.0  6.0  9.0  1.0  \n",
       "4                             2.0   0.0  0.0  0.0  0.0  \n",
       "\n",
       "[5 rows x 39 columns]"
      ]
     },
     "execution_count": 4,
     "metadata": {},
     "output_type": "execute_result"
    }
   ],
   "source": [
    "data.head()"
   ]
  },
  {
   "cell_type": "markdown",
   "metadata": {},
   "source": [
    "Видно, что в датасете есть как числовые, так и категориальные признаки. Получим списки их названий:"
   ]
  },
  {
   "cell_type": "code",
   "execution_count": 5,
   "metadata": {
    "collapsed": false
   },
   "outputs": [],
   "source": [
    "numeric_cols = ['RFCD.Percentage.1', 'RFCD.Percentage.2', 'RFCD.Percentage.3', \n",
    "                'RFCD.Percentage.4', 'RFCD.Percentage.5',\n",
    "                'SEO.Percentage.1', 'SEO.Percentage.2', 'SEO.Percentage.3',\n",
    "                'SEO.Percentage.4', 'SEO.Percentage.5',\n",
    "                'Year.of.Birth.1', 'Number.of.Successful.Grant.1', 'Number.of.Unsuccessful.Grant.1']\n",
    "categorical_cols = list(set(X.columns.values.tolist()) - set(numeric_cols))"
   ]
  },
  {
   "cell_type": "markdown",
   "metadata": {},
   "source": [
    "Также в нём присутствуют пропущенные значения. Очевидны решением будет исключение всех данных, у которых пропущено хотя бы одно значение. Сделаем это:"
   ]
  },
  {
   "cell_type": "code",
   "execution_count": 6,
   "metadata": {
    "collapsed": false
   },
   "outputs": [
    {
     "data": {
      "text/plain": [
       "(213, 39)"
      ]
     },
     "execution_count": 6,
     "metadata": {},
     "output_type": "execute_result"
    }
   ],
   "source": [
    "data.dropna().shape"
   ]
  },
  {
   "cell_type": "markdown",
   "metadata": {},
   "source": [
    "Видно, что тогда мы выбросим почти все данные, и такой метод решения в данном случае не сработает.\n",
    "\n",
    "Пропущенные значения можно так же интерпретировать, для этого существует несколько способов, они различаются для категориальных и вещественных признаков.\n",
    "\n",
    "Для вещественных признаков:\n",
    "- заменить на 0 (данный признак давать вклад в предсказание для данного объекта не будет)\n",
    "- заменить на среднее (каждый пропущенный признак будет давать такой же вклад, как и среднее значение признака на датасете)\n",
    "\n",
    "Для категориальных:\n",
    "- интерпретировать пропущенное значение, как ещё одну категорию (данный способ является самым естественным, так как в случае категорий у нас есть уникальная возможность не потерять информацию о наличии пропущенных значений; обратите внимание, что в случае вещественных признаков данная информация неизбежно теряется)"
   ]
  },
  {
   "cell_type": "markdown",
   "metadata": {},
   "source": [
    "##  Задание 0. Обработка пропущенных значений.\n",
    "1. Заполните пропущенные вещественные значения в X нулями и средними по столбцам, назовите полученные датафреймы X_real_zeros и X_real_mean соответственно. \n",
    "2. Все категориальные признаки в X преобразуйте в строки, пропущенные значения требуется также преобразовать в какие-либо строки, которые не являются категориями (например, 'NA'), полученный датафрейм назовите X_cat."
   ]
  },
  {
   "cell_type": "code",
   "execution_count": 1,
   "metadata": {
    "collapsed": true
   },
   "outputs": [],
   "source": [
    "def calculate_means(numeric_data):\n",
    "    means = np.zeros(numeric_data.shape[1])\n",
    "    for j in range(numeric_data.shape[1]):\n",
    "        to_sum = numeric_data.iloc[:,j]\n",
    "        indices = np.nonzero(~numeric_data.iloc[:,j].isnull())[0]\n",
    "        correction = np.amax(to_sum[indices])\n",
    "        to_sum /= correction\n",
    "        for i in indices:\n",
    "            means[j] += to_sum[i]\n",
    "        means[j] /= indices.size\n",
    "        means[j] *= correction\n",
    "    return pd.Series(means, numeric_data.columns)"
   ]
  },
  {
   "cell_type": "code",
   "execution_count": 10,
   "metadata": {
    "collapsed": false
   },
   "outputs": [],
   "source": [
    "means = calculate_means(X[numeric_cols])"
   ]
  },
  {
   "cell_type": "code",
   "execution_count": 11,
   "metadata": {
    "collapsed": false
   },
   "outputs": [
    {
     "data": {
      "text/plain": [
       "74.832348199892607"
      ]
     },
     "execution_count": 11,
     "metadata": {},
     "output_type": "execute_result"
    }
   ],
   "source": [
    "means['RFCD.Percentage.1']"
   ]
  },
  {
   "cell_type": "code",
   "execution_count": 12,
   "metadata": {
    "collapsed": false
   },
   "outputs": [
    {
     "name": "stderr",
     "output_type": "stream",
     "text": [
      "C:\\Users\\user\\Anaconda2\\lib\\site-packages\\pandas\\core\\generic.py:3191: SettingWithCopyWarning: \n",
      "A value is trying to be set on a copy of a slice from a DataFrame\n",
      "\n",
      "See the caveats in the documentation: http://pandas.pydata.org/pandas-docs/stable/indexing.html#indexing-view-versus-copy\n",
      "  self._update_inplace(new_data)\n"
     ]
    }
   ],
   "source": [
    "def NanChZero(datafr):\n",
    "    datawork = datafr\n",
    "    for item in datawork.columns:\n",
    "        datawork[item].fillna(0, inplace=True)\n",
    "    return datawork\n",
    "\n",
    "def NanChMeans(datafr):\n",
    "    datawork = datafr\n",
    "    means = calculate_means(X[numeric_cols])\n",
    "    for item in datawork.columns:\n",
    "        datawork[item].fillna(means[item], inplace=True)\n",
    "    return datawork\n",
    "\n",
    "X_real_zeros=X[numeric_cols].fillna(0)\n",
    "X_real_mean=NanChMeans(X[numeric_cols])"
   ]
  },
  {
   "cell_type": "code",
   "execution_count": 14,
   "metadata": {
    "collapsed": false
   },
   "outputs": [],
   "source": [
    "def NanChNA(datafr):\n",
    "    datawork = datafr\n",
    "    for item in datawork.columns:        \n",
    "        datawork[item].fillna('NA', inplace=True)\n",
    "    for item in datawork.columns:\n",
    "        datawork[item]=datawork[item].astype(str)\n",
    "    return datawork\n",
    "X_cat = X[categorical_cols].applymap(str).fillna('NA')"
   ]
  },
  {
   "cell_type": "markdown",
   "metadata": {},
   "source": [
    "## Преобразование категориальных признаков."
   ]
  },
  {
   "cell_type": "markdown",
   "metadata": {},
   "source": [
    "В предыдущей ячейке мы разделили наш датасет ещё на две части: в одной присутствуют только вещественные признаки, в другой только категориальные. Это понадобится нам для раздельной последующей обработке этих данных, а так же для сравнения качества работы тех или иных методов.\n",
    "\n",
    "Для использования модели регрессии требуется преобразовать категориальные признаки в вещественные. Основной способ преоборазования категориальных признаков в вещественные: one-hot encoding. Его идея заключается в том, что мы преобразуем категориальный признак при помощи бинарного кода: каждой категории ставим в соответствие набор из нулей и единиц."
   ]
  },
  {
   "cell_type": "code",
   "execution_count": 16,
   "metadata": {
    "collapsed": false
   },
   "outputs": [],
   "source": [
    "encoder = DV(sparse = False)\n",
    "X_cat_oh = encoder.fit_transform(X_cat.T.to_dict().values())"
   ]
  },
  {
   "cell_type": "markdown",
   "metadata": {},
   "source": [
    "Для построения метрики качества по результату обучения требуется разделить исходный датасет на обучающую и тестовую выборки."
   ]
  },
  {
   "cell_type": "code",
   "execution_count": 17,
   "metadata": {
    "collapsed": false
   },
   "outputs": [],
   "source": [
    "from sklearn.cross_validation import train_test_split\n",
    "\n",
    "(X_train_real_zeros, \n",
    " X_test_real_zeros, \n",
    " y_train, y_test) = train_test_split(X_real_zeros, y, \n",
    "                                     test_size=0.3, \n",
    "                                     random_state=0)\n",
    "(X_train_real_mean, \n",
    " X_test_real_mean) = train_test_split(X_real_mean, \n",
    "                                      test_size=0.3, \n",
    "                                      random_state=0)\n",
    "(X_train_cat_oh,\n",
    " X_test_cat_oh) = train_test_split(X_cat_oh,\n",
    "                                   test_size=0.3, \n",
    "                                   random_state=0)"
   ]
  },
  {
   "cell_type": "markdown",
   "metadata": {},
   "source": [
    "## Задание 1. Сравнение способов заполнения вещественных пропущенных значений.\n",
    "1. Составьте две обучающие выборки из вещественных и категориальных признаков: в одной вещественные признаки, где пропущенные значения заполнены нулями, в другой - средними. \n",
    "2. Обучите на них логистическую регрессию, подбирая параметры из заданной сетки param_grid по методу кросс-валидации с числом фолдов cv=3.\n",
    "3. Постройте два графика оценок точности +- их стандратного отклонения в зависимости от гиперпараметра и убедитесь, что вы действительно нашли её максимум. Также обратите внимание на большую дисперсию получаемых оценок (уменьшить её можно увеличением числа фолдов cv).\n",
    "4. Получите две метрики качества AUC ROC на тестовой выборке и сравните их между собой. Какой способ заполнения пропущенных вещественных значений работает лучше? В дальнейшем для выполнения задания в качестве вещественных признаков используйте ту выборку, которая даёт лучшее качество на тесте.\n",
    "5. Передайте два значения AUC ROC (сначала для выборки, заполненной средними, потом для выборки, заполненной нулями) в функцию write_answer_1 и запустите её. Полученный файл является ответом на 1 задание.\n",
    "\n",
    "Вообще говоря, не вполне логично оптимизировать на кросс-валидации заданный по умолчанию в классе логистической регрессии функционал accuracy, а измерять на тесте AUC ROC, но это, как и ограничение размера выборки, сделано для ускорения работы процесса кросс-валидации."
   ]
  },
  {
   "cell_type": "code",
   "execution_count": 20,
   "metadata": {
    "collapsed": false
   },
   "outputs": [],
   "source": [
    "from sklearn.linear_model import LogisticRegression\n",
    "from sklearn.grid_search import GridSearchCV\n",
    "from sklearn.metrics import roc_auc_score\n",
    "\n",
    "def plot_scores(optimizer):\n",
    "    scores = [[item[0]['C'], \n",
    "               item[1], \n",
    "               (np.sum((item[2]-item[1])**2)/(item[2].size-1))**0.5] for item in optimizer.grid_scores_]\n",
    "    scores = np.array(scores)\n",
    "    plt.semilogx(scores[:,0], scores[:,1])\n",
    "    plt.fill_between(scores[:,0], scores[:,1]-scores[:,2], \n",
    "                                  scores[:,1]+scores[:,2], alpha=0.3)\n",
    "    plt.show()\n",
    "    \n",
    "def write_answer_1(auc_1, auc_2):\n",
    "    auc = (auc_1 + auc_2)/2\n",
    "    with open(\"preprocessing_lr_answer1.txt\", \"w\") as fout:\n",
    "        fout.write(str(auc))\n",
    "        \n",
    "param_grid = {'C': [0.01, 0.05, 0.1, 0.5, 1, 5, 10]}\n",
    "cv = 3"
   ]
  },
  {
   "cell_type": "code",
   "execution_count": 21,
   "metadata": {
    "collapsed": false
   },
   "outputs": [],
   "source": [
    "dataZeros_train = np.hstack((X_train_real_zeros,X_train_cat_oh))\n",
    "dataZeros_test = np.hstack((X_test_real_zeros,X_test_cat_oh))\n",
    "dataMean_train =np.hstack((X_train_real_mean,X_train_cat_oh))\n",
    "dataMean_test =np.hstack((X_test_real_mean,X_test_cat_oh))"
   ]
  },
  {
   "cell_type": "code",
   "execution_count": 22,
   "metadata": {
    "collapsed": false
   },
   "outputs": [
    {
     "name": "stdout",
     "output_type": "stream",
     "text": [
      "Метки функции предсказаний:\n",
      "\n",
      "4320    0\n",
      "2006    1\n",
      "5689    0\n",
      "472     1\n",
      "1370    0\n",
      "1457    1\n",
      "5783    0\n",
      "3484    1\n",
      "1145    0\n",
      "130     1\n",
      "Name: Grant.Status, dtype: int64\n",
      "[1 0 0 1 0 1 0 0 0 1]\n",
      "Вероятности(т.к. функция логистическая):\n",
      "\n",
      "[[ 0.252135    0.747865  ]\n",
      " [ 0.54382158  0.45617842]\n",
      " [ 0.89844845  0.10155155]\n",
      " [ 0.06644003  0.93355997]\n",
      " [ 0.91877138  0.08122862]\n",
      " [ 0.04248142  0.95751858]\n",
      " [ 0.91777932  0.08222068]\n",
      " [ 0.86245688  0.13754312]\n",
      " [ 0.83782003  0.16217997]\n",
      " [ 0.19134016  0.80865984]]\n",
      "Лучшая функция:\n",
      "\n",
      "LogisticRegression(C=0.1, class_weight='balanced', dual=False,\n",
      "          fit_intercept=True, intercept_scaling=1, max_iter=100,\n",
      "          multi_class='ovr', n_jobs=4, penalty='l2', random_state=0,\n",
      "          solver='liblinear', tol=0.0001, verbose=0, warm_start=False)\n",
      "Коэффициенты лучшей функции:\n",
      "\n",
      "[[ 0.01140464  0.01124229  0.00707679 ...,  1.07070579  0.08169429\n",
      "  -0.08850465]]\n",
      "Лучший параметр функции:\n",
      "\n",
      "{'C': 0.1}\n"
     ]
    },
    {
     "data": {
      "image/png": "[encoded data removed]",
      "text/plain": [
       "<matplotlib.figure.Figure at 0x90bfeb8>"
      ]
     },
     "metadata": {},
     "output_type": "display_data"
    },
    {
     "name": "stdout",
     "output_type": "stream",
     "text": [
      "0.887003171437\n"
     ]
    }
   ],
   "source": [
    "estimator=LogisticRegression(penalty='l2', random_state = 0, class_weight='balanced', n_jobs=4)\n",
    "optimizer = GridSearchCV(estimator, param_grid, scoring = 'accuracy', cv=cv)\n",
    "optimizer.fit(dataZeros_train,y_train)\n",
    "print 'Метки функции предсказаний:\\n'\n",
    "print y_test[:10]\n",
    "print optimizer.predict(dataZeros_test)[:10]\n",
    "print 'Вероятности(т.к. функция логистическая):\\n'\n",
    "print optimizer.predict_proba(dataZeros_test)[:10]\n",
    "print 'Лучшая функция:\\n'\n",
    "print optimizer.best_estimator_\n",
    "print 'Коэффициенты лучшей функции:\\n'\n",
    "print optimizer.best_estimator_.coef_\n",
    "print 'Лучший параметр функции:\\n'\n",
    "print optimizer.best_params_\n",
    "plot_scores(optimizer)\n",
    "auc_zeros=roc_auc_score(y_test, optimizer.predict_proba(dataZeros_test)[:,1])\n",
    "print auc_zeros"
   ]
  },
  {
   "cell_type": "code",
   "execution_count": 23,
   "metadata": {
    "collapsed": false
   },
   "outputs": [
    {
     "name": "stdout",
     "output_type": "stream",
     "text": [
      "Метки функции предсказаний:\n",
      "\n",
      "4320    0\n",
      "2006    1\n",
      "5689    0\n",
      "472     1\n",
      "1370    0\n",
      "1457    1\n",
      "5783    0\n",
      "3484    1\n",
      "1145    0\n",
      "130     1\n",
      "Name: Grant.Status, dtype: int64\n",
      "[1 0 0 1 0 1 0 0 0 1]\n",
      "Вероятности(т.к. функция логистическая):\n",
      "\n",
      "[[ 0.26717591  0.73282409]\n",
      " [ 0.54023557  0.45976443]\n",
      " [ 0.89296188  0.10703812]\n",
      " [ 0.07234531  0.92765469]\n",
      " [ 0.91121504  0.08878496]\n",
      " [ 0.04613978  0.95386022]\n",
      " [ 0.92498409  0.07501591]\n",
      " [ 0.85819592  0.14180408]\n",
      " [ 0.85181423  0.14818577]\n",
      " [ 0.19447014  0.80552986]]\n",
      "[ 0.73282409  0.45976443  0.10703812 ...,  0.06581557  0.10070631\n",
      "  0.13997003]\n",
      "Лучшая функция:\n",
      "\n",
      "LogisticRegression(C=0.1, class_weight='balanced', dual=False,\n",
      "          fit_intercept=True, intercept_scaling=1, max_iter=100,\n",
      "          multi_class='ovr', n_jobs=4, penalty='l2', random_state=0,\n",
      "          solver='liblinear', tol=0.0001, verbose=0, warm_start=False)\n",
      "Коэффициенты лучшей функции:\n",
      "\n",
      "[[ 0.10760043  0.107776    0.10362792 ...,  1.0615058   0.10449077\n",
      "  -0.09960759]]\n",
      "Лучший параметр функции:\n",
      "\n",
      "{'C': 0.1}\n"
     ]
    },
    {
     "data": {
      "image/png": "[encoded data removed]",
      "text/plain": [
       "<matplotlib.figure.Figure at 0xb6b4be0>"
      ]
     },
     "metadata": {},
     "output_type": "display_data"
    },
    {
     "name": "stdout",
     "output_type": "stream",
     "text": [
      "0.888062379432\n"
     ]
    }
   ],
   "source": [
    "estimator=LogisticRegression(penalty='l2', random_state = 0, class_weight='balanced', n_jobs=4)\n",
    "optimizer = GridSearchCV(estimator, param_grid, scoring = 'accuracy', cv=cv)\n",
    "optimizer.fit(dataMean_train,y_train)\n",
    "print 'Метки функции предсказаний:\\n'\n",
    "print y_test[:10]\n",
    "print optimizer.predict(dataMean_test)[:10]\n",
    "print 'Вероятности(т.к. функция логистическая):\\n'\n",
    "print optimizer.predict_proba(dataMean_test)[:10]\n",
    "print optimizer.predict_proba(dataMean_test)[:,1]\n",
    "print 'Лучшая функция:\\n'\n",
    "print optimizer.best_estimator_\n",
    "print 'Коэффициенты лучшей функции:\\n'\n",
    "print optimizer.best_estimator_.coef_\n",
    "print 'Лучший параметр функции:\\n'\n",
    "print optimizer.best_params_\n",
    "plot_scores(optimizer)\n",
    "auc_mean=roc_auc_score(y_test, optimizer.predict_proba(dataMean_test)[:,1])\n",
    "print auc_mean"
   ]
  },
  {
   "cell_type": "code",
   "execution_count": 24,
   "metadata": {
    "collapsed": false
   },
   "outputs": [
    {
     "name": "stdout",
     "output_type": "stream",
     "text": [
      "Метки функции предсказаний:\n",
      "\n",
      "4320    0\n",
      "2006    1\n",
      "5689    0\n",
      "472     1\n",
      "1370    0\n",
      "1457    1\n",
      "5783    0\n",
      "3484    1\n",
      "1145    0\n",
      "130     1\n",
      "Name: Grant.Status, dtype: int64\n",
      "[1 0 0 1 1 1 0 0 0 1]\n",
      "Вероятности(т.к. функция логистическая):\n",
      "\n",
      "[[ 0.26121298  0.73878702]\n",
      " [ 0.5444149   0.4555851 ]\n",
      " [ 0.86839997  0.13160003]\n",
      " [ 0.07671541  0.92328459]\n",
      " [ 0.37354291  0.62645709]\n",
      " [ 0.11619039  0.88380961]\n",
      " [ 0.90348802  0.09651198]\n",
      " [ 0.77376997  0.22623003]\n",
      " [ 0.8125865   0.1874135 ]\n",
      " [ 0.23150455  0.76849545]]\n",
      "Лучшая функция:\n",
      "\n",
      "LogisticRegression(C=0.1, class_weight='balanced', dual=False,\n",
      "          fit_intercept=True, intercept_scaling=1, max_iter=100,\n",
      "          multi_class='ovr', n_jobs=4, penalty='l2', random_state=0,\n",
      "          solver='liblinear', tol=0.0001, verbose=0, warm_start=False)\n",
      "Коэффициенты лучшей функции:\n",
      "\n",
      "[[-0.35853677 -0.23124084  0.02043745 ...,  1.05249313  0.13873701\n",
      "  -0.10690457]]\n",
      "Лучший параметр функции:\n",
      "\n",
      "{'C': 0.1}\n"
     ]
    },
    {
     "data": {
      "image/png": "[encoded data removed]",
      "text/plain": [
       "<matplotlib.figure.Figure at 0xbcec320>"
      ]
     },
     "metadata": {},
     "output_type": "display_data"
    },
    {
     "data": {
      "text/plain": [
       "0.8517832682258637"
      ]
     },
     "execution_count": 24,
     "metadata": {},
     "output_type": "execute_result"
    }
   ],
   "source": [
    "estimator=LogisticRegression(penalty='l2', random_state = 0, class_weight='balanced', n_jobs=4)\n",
    "optimizer = GridSearchCV(estimator, param_grid, scoring = 'accuracy', cv=cv)\n",
    "optimizer.fit(X_train_cat_oh,y_train)\n",
    "print 'Метки функции предсказаний:\\n'\n",
    "print y_test[:10]\n",
    "print optimizer.predict(X_test_cat_oh)[:10]\n",
    "print 'Вероятности(т.к. функция логистическая):\\n'\n",
    "print optimizer.predict_proba(X_test_cat_oh)[:10]\n",
    "print 'Лучшая функция:\\n'\n",
    "print optimizer.best_estimator_\n",
    "print 'Коэффициенты лучшей функции:\\n'\n",
    "print optimizer.best_estimator_.coef_\n",
    "print 'Лучший параметр функции:\\n'\n",
    "print optimizer.best_params_\n",
    "plot_scores(optimizer)\n",
    "roc_auc_score(y_test, optimizer.predict_proba(X_test_cat_oh)[:,1])"
   ]
  },
  {
   "cell_type": "code",
   "execution_count": 26,
   "metadata": {
    "collapsed": false
   },
   "outputs": [
    {
     "data": {
      "text/plain": [
       "0.88700317143702123"
      ]
     },
     "execution_count": 26,
     "metadata": {},
     "output_type": "execute_result"
    }
   ],
   "source": [
    "auc_zeros"
   ]
  },
  {
   "cell_type": "code",
   "execution_count": 27,
   "metadata": {
    "collapsed": false
   },
   "outputs": [
    {
     "data": {
      "text/plain": [
       "0.88806237943156663"
      ]
     },
     "execution_count": 27,
     "metadata": {},
     "output_type": "execute_result"
    }
   ],
   "source": [
    "auc_mean"
   ]
  },
  {
   "cell_type": "code",
   "execution_count": 28,
   "metadata": {
    "collapsed": false
   },
   "outputs": [],
   "source": [
    "write_answer_1(auc_zeros, auc_mean)"
   ]
  },
  {
   "cell_type": "markdown",
   "metadata": {},
   "source": [
    "## Масштабирование вещественных признаков."
   ]
  },
  {
   "cell_type": "markdown",
   "metadata": {},
   "source": [
    "Попробуем улучшить качество классификации."
   ]
  },
  {
   "cell_type": "code",
   "execution_count": 30,
   "metadata": {
    "collapsed": false
   },
   "outputs": [],
   "source": [
    "from sklearn.preprocessing import StandardScaler\n",
    "\n",
    "scaler = StandardScaler()\n",
    "X_train_real_scaled=scaler.fit_transform(X_train_real_mean)\n",
    "X_train_real_scaled=scaler.transform(X_train_real_scaled)\n",
    "\n",
    "X_test_real_scaled=scaler.fit_transform(X_test_real_mean)\n",
    "X_test_real_scaled=scaler.transform(X_test_real_scaled)"
   ]
  },
  {
   "cell_type": "code",
   "execution_count": 31,
   "metadata": {
    "collapsed": false
   },
   "outputs": [
    {
     "data": {
      "text/plain": [
       "array([[ -2.84036747e+00,  -9.53995483e-01,  -6.70576102e-01, ...,\n",
       "         -2.13316666e+02,  -8.97403757e-01,  -7.97111687e-01],\n",
       "       [ -2.84797191e+00,  -9.60588513e-01,  -6.18510876e-01, ...,\n",
       "         -2.13287719e+02,  -8.17776714e-01,  -7.82421161e-01],\n",
       "       [ -2.81093653e+00,  -1.01077303e+00,  -6.70576102e-01, ...,\n",
       "         -2.13316666e+02,  -4.49680444e-01,  -3.47294181e-01],\n",
       "       ..., \n",
       "       [ -2.89922936e+00,  -8.97217937e-01,  -5.20380965e-01, ...,\n",
       "         -2.13316666e+02,  -1.34512707e+00,  -6.47172518e-01],\n",
       "       [ -2.89922936e+00,  -9.25606710e-01,  -4.45283397e-01, ...,\n",
       "         -2.13375744e+02,  -1.34512707e+00,  -9.47050855e-01],\n",
       "       [ -2.81093653e+00,  -1.01077303e+00,  -6.70576102e-01, ...,\n",
       "         -2.13198510e+02,  -4.49680444e-01,  -4.74158444e-02]])"
      ]
     },
     "execution_count": 31,
     "metadata": {},
     "output_type": "execute_result"
    }
   ],
   "source": [
    "X_test_real_scaled"
   ]
  },
  {
   "cell_type": "markdown",
   "metadata": {},
   "source": [
    "## Сравнение признаковых пространств."
   ]
  },
  {
   "cell_type": "code",
   "execution_count": 32,
   "metadata": {
    "collapsed": false
   },
   "outputs": [
    {
     "data": {
      "image/png": "[encoded data removed]",
      "text/plain": [
       "<matplotlib.figure.Figure at 0xc129e10>"
      ]
     },
     "metadata": {},
     "output_type": "display_data"
    }
   ],
   "source": [
    "data_numeric_scaled = pd.DataFrame(X_train_real_scaled, columns=numeric_cols)\n",
    "list_cols = ['Number.of.Successful.Grant.1', 'SEO.Percentage.2', 'Year.of.Birth.1']\n",
    "scatter_matrix(data_numeric_scaled[list_cols], alpha=0.5, figsize=(10, 10))\n",
    "plt.show()"
   ]
  },
  {
   "cell_type": "markdown",
   "metadata": {},
   "source": [
    "Как видно из графиков, мы не поменяли свойства признакового пространства: гистограммы распределений значений признаков, как и их scatter-plots, выглядят так же, как и до нормировки, но при этом все значения теперь находятся примерно в одном диапазоне, тем самым повышая интерпретабельность результатов, а также лучше сочетаясь с идеологией регуляризации."
   ]
  },
  {
   "cell_type": "markdown",
   "metadata": {},
   "source": [
    "## Задание 2. Сравнение качества классификации до и после масштабирования вещественных признаков.\n",
    "1. Обучите ещё раз регрессию и гиперпараметры на новых признаках, объединив их с закодированными категориальными.\n",
    "2. Проверьте, был ли найден оптимум accuracy по гиперпараметрам во время кроссвалидации.\n",
    "3. Получите значение ROC AUC на тестовой выборке, сравните с лучшим результатом, полученными ранее.\n",
    "4. Запишите полученный ответ в файл при помощи функции write_answer_2."
   ]
  },
  {
   "cell_type": "code",
   "execution_count": 33,
   "metadata": {
    "collapsed": true
   },
   "outputs": [],
   "source": [
    "dataMean_train =np.hstack((X_train_real_scaled,X_train_cat_oh))\n",
    "dataMean_test =np.hstack((X_test_real_scaled,X_test_cat_oh))"
   ]
  },
  {
   "cell_type": "code",
   "execution_count": 34,
   "metadata": {
    "collapsed": false
   },
   "outputs": [
    {
     "name": "stdout",
     "output_type": "stream",
     "text": [
      "Метки функции предсказаний:\n",
      "\n",
      "4320    0\n",
      "2006    1\n",
      "5689    0\n",
      "472     1\n",
      "1370    0\n",
      "1457    1\n",
      "5783    0\n",
      "3484    1\n",
      "1145    0\n",
      "130     1\n",
      "Name: Grant.Status, dtype: int64\n",
      "[1 0 0 1 0 1 0 0 0 1]\n",
      "Вероятности(т.к. функция логистическая):\n",
      "\n",
      "[[ 0.29500272  0.70499728]\n",
      " [ 0.57998327  0.42001673]\n",
      " [ 0.91296036  0.08703964]\n",
      " [ 0.07226713  0.92773287]\n",
      " [ 0.89615089  0.10384911]\n",
      " [ 0.05706774  0.94293226]\n",
      " [ 0.91845042  0.08154958]\n",
      " [ 0.85076383  0.14923617]\n",
      " [ 0.85180764  0.14819236]\n",
      " [ 0.21224032  0.78775968]]\n",
      "[ 0.70499728  0.42001673  0.08703964 ...,  0.05969407  0.10260688\n",
      "  0.11564641]\n",
      "Лучшая функция:\n",
      "\n",
      "LogisticRegression(C=0.1, class_weight=None, dual=False, fit_intercept=True,\n",
      "          intercept_scaling=1, max_iter=100, multi_class='ovr', n_jobs=4,\n",
      "          penalty='l2', random_state=0, solver='liblinear', tol=0.0001,\n",
      "          verbose=0, warm_start=False)\n",
      "Коэффициенты лучшей функции:\n",
      "\n",
      "[[ 0.02252677 -0.0031092  -0.05533878 ...,  1.05339417  0.08702321\n",
      "  -0.08914935]]\n",
      "Лучший параметр функции:\n",
      "\n",
      "{'C': 0.1}\n"
     ]
    },
    {
     "data": {
      "image/png": "[encoded data removed]",
      "text/plain": [
       "<matplotlib.figure.Figure at 0xd439198>"
      ]
     },
     "metadata": {},
     "output_type": "display_data"
    },
    {
     "name": "stdout",
     "output_type": "stream",
     "text": [
      "0.885722470182\n"
     ]
    }
   ],
   "source": [
    "estimator=LogisticRegression(penalty='l2', random_state = 0, n_jobs=4)\n",
    "optimizer = GridSearchCV(estimator, param_grid, scoring = 'accuracy', cv=cv)\n",
    "optimizer.fit(dataMean_train,y_train)\n",
    "print 'Метки функции предсказаний:\\n'\n",
    "print y_test[:10]\n",
    "print optimizer.predict(dataMean_test)[:10]\n",
    "print 'Вероятности(т.к. функция логистическая):\\n'\n",
    "print optimizer.predict_proba(dataMean_test)[:10]\n",
    "print optimizer.predict_proba(dataMean_test)[:,1]\n",
    "print 'Лучшая функция:\\n'\n",
    "print optimizer.best_estimator_\n",
    "print 'Коэффициенты лучшей функции:\\n'\n",
    "print optimizer.best_estimator_.coef_\n",
    "print 'Лучший параметр функции:\\n'\n",
    "print optimizer.best_params_\n",
    "plot_scores(optimizer)\n",
    "auc_mean=roc_auc_score(y_test, optimizer.predict_proba(dataMean_test)[:,1])\n",
    "print auc_mean"
   ]
  },
  {
   "cell_type": "code",
   "execution_count": 35,
   "metadata": {
    "collapsed": true
   },
   "outputs": [],
   "source": [
    "def write_answer_2(auc):\n",
    "    with open(\"preprocessing_lr_answer2.txt\", \"w\") as fout:\n",
    "        fout.write(str(auc))\n",
    "        \n",
    "write_answer_2(auc_mean)"
   ]
  },
  {
   "cell_type": "markdown",
   "metadata": {},
   "source": [
    "## Задание 3. Балансировка классов.\n",
    "1. Обучите логистическую регрессию и гиперпараметры с балансировкой классов, используя веса (параметр class_weight='balanced' регрессии) на отмасштабированных выборках, полученных в предыдущем задании. Убедитесь, что вы нашли максимум accuracy по гиперпараметрам.\n",
    "2. Получите метрику ROC AUC на тестовой выборке.\n",
    "3. Сбалансируйте выборку, досэмплировав в неё объекты из меньшего класса. Для получения индексов объектов, которые требуется добавить в обучающую выборку, используйте следующую комбинацию вызовов функций:\n",
    "        np.random.seed(0)\n",
    "        indices_to_add = np.random.randint(...)\n",
    "        X_train_to_add = X_train[y_train.as_matrix() == 1,:][indices_to_add,:]\n",
    "   После этого добавьте эти объекты в начало или конец обучающей выборки. Дополните соответствующим      образом вектор ответов.\n",
    "4. Получите метрику ROC AUC на тестовой выборке, сравните с предыдущим результатом.\n",
    "5. Внесите ответы в выходной файл при помощи функции write_asnwer_3, передав в неё сначала ROC AUC для балансировки весами, а потом балансировки выборки вручную."
   ]
  },
  {
   "cell_type": "code",
   "execution_count": 38,
   "metadata": {
    "collapsed": false
   },
   "outputs": [
    {
     "name": "stdout",
     "output_type": "stream",
     "text": [
      "Метки функции предсказаний:\n",
      "\n",
      "4320    0\n",
      "2006    1\n",
      "5689    0\n",
      "472     1\n",
      "1370    0\n",
      "1457    1\n",
      "5783    0\n",
      "3484    1\n",
      "1145    0\n",
      "130     1\n",
      "Name: Grant.Status, dtype: int64\n",
      "[1 0 0 1 0 1 0 0 0 1]\n",
      "Вероятности(т.к. функция логистическая):\n",
      "\n",
      "[[ 0.25480222  0.74519778]\n",
      " [ 0.53407453  0.46592547]\n",
      " [ 0.89799239  0.10200761]\n",
      " [ 0.06166795  0.93833205]\n",
      " [ 0.87777325  0.12222675]\n",
      " [ 0.04822686  0.95177314]\n",
      " [ 0.90156058  0.09843942]\n",
      " [ 0.82922582  0.17077418]\n",
      " [ 0.8256439   0.1743561 ]\n",
      " [ 0.18787265  0.81212735]]\n",
      "[ 0.74519778  0.46592547  0.10200761 ...,  0.07200606  0.11755941\n",
      "  0.14321527]\n",
      "Лучшая функция:\n",
      "\n",
      "LogisticRegression(C=0.1, class_weight='balanced', dual=False,\n",
      "          fit_intercept=True, intercept_scaling=1, max_iter=100,\n",
      "          multi_class='ovr', n_jobs=4, penalty='l2', random_state=0,\n",
      "          solver='liblinear', tol=0.0001, verbose=0, warm_start=False)\n",
      "Коэффициенты лучшей функции:\n",
      "\n",
      "[[ 0.02169016 -0.00160309 -0.05400292 ...,  1.05764183  0.0863449\n",
      "  -0.08849605]]\n",
      "Лучший параметр функции:\n",
      "\n",
      "{'C': 0.1}\n"
     ]
    },
    {
     "data": {
      "image/png": "[encoded data removed]",
      "text/plain": [
       "<matplotlib.figure.Figure at 0x706cda0>"
      ]
     },
     "metadata": {},
     "output_type": "display_data"
    },
    {
     "name": "stdout",
     "output_type": "stream",
     "text": [
      "0.885879619032\n"
     ]
    }
   ],
   "source": [
    "dataMean_train =np.hstack((X_train_real_scaled,X_train_cat_oh))\n",
    "dataMean_test =np.hstack((X_test_real_scaled,X_test_cat_oh))\n",
    "estimator=LogisticRegression(penalty='l2', random_state = 0, class_weight='balanced', n_jobs=4)\n",
    "optimizer = GridSearchCV(estimator, param_grid, scoring = 'accuracy', cv=cv)\n",
    "optimizer.fit(dataMean_train,y_train)\n",
    "print 'Метки функции предсказаний:\\n'\n",
    "print y_test[:10]\n",
    "print optimizer.predict(dataMean_test)[:10]\n",
    "print 'Вероятности(т.к. функция логистическая):\\n'\n",
    "print optimizer.predict_proba(dataMean_test)[:10]\n",
    "print optimizer.predict_proba(dataMean_test)[:,1]\n",
    "print 'Лучшая функция:\\n'\n",
    "print optimizer.best_estimator_\n",
    "print 'Коэффициенты лучшей функции:\\n'\n",
    "print optimizer.best_estimator_.coef_\n",
    "print 'Лучший параметр функции:\\n'\n",
    "print optimizer.best_params_\n",
    "plot_scores(optimizer)\n",
    "auc_mean_2=roc_auc_score(y_test, optimizer.predict_proba(dataMean_test)[:,1])\n",
    "print auc_mean_2"
   ]
  },
  {
   "cell_type": "code",
   "execution_count": 39,
   "metadata": {
    "collapsed": false
   },
   "outputs": [
    {
     "name": "stdout",
     "output_type": "stream",
     "text": [
      "(4632L, 5606L)\n",
      "(4632L,)\n"
     ]
    }
   ],
   "source": [
    "np.random.seed(0)\n",
    "number_to_add = np.sum(y_train==0)-np.sum(y_train==1)\n",
    "indices_to_add = np.random.randint(np.sum(y_train==1), size = number_to_add)\n",
    "X_train_to_add = dataMean_train[y_train.as_matrix() == 1,:][indices_to_add,:]\n",
    "X_train_enhanced=np.append(dataMean_train,X_train_to_add, axis=0)\n",
    "y_train_enhanced=np.append(y_train,(np.ones((number_to_add,1))))\n",
    "print X_train_enhanced.shape\n",
    "print y_train_enhanced.shape"
   ]
  },
  {
   "cell_type": "code",
   "execution_count": 40,
   "metadata": {
    "collapsed": false
   },
   "outputs": [
    {
     "name": "stdout",
     "output_type": "stream",
     "text": [
      "Метки функции предсказаний:\n",
      "\n",
      "4320    0\n",
      "2006    1\n",
      "5689    0\n",
      "472     1\n",
      "1370    0\n",
      "1457    1\n",
      "5783    0\n",
      "3484    1\n",
      "1145    0\n",
      "130     1\n",
      "Name: Grant.Status, dtype: int64\n",
      "[ 1.  0.  0.  1.  0.  1.  0.  0.  0.  1.]\n",
      "Лучшая функция:\n",
      "\n",
      "LogisticRegression(C=1, class_weight='balanced', dual=False,\n",
      "          fit_intercept=True, intercept_scaling=1, max_iter=100,\n",
      "          multi_class='ovr', n_jobs=4, penalty='l2', random_state=0,\n",
      "          solver='liblinear', tol=0.0001, verbose=0, warm_start=False)\n",
      "Коэффициенты лучшей функции:\n",
      "\n",
      "[[ 0.12481152  0.01762432 -0.41988475 ...,  1.30810507  0.10032367\n",
      "  -0.1142016 ]]\n",
      "Лучший параметр функции:\n",
      "\n",
      "{'C': 1}\n"
     ]
    },
    {
     "data": {
      "image/png": "[encoded data removed]",
      "text/plain": [
       "<matplotlib.figure.Figure at 0xba150f0>"
      ]
     },
     "metadata": {},
     "output_type": "display_data"
    },
    {
     "name": "stdout",
     "output_type": "stream",
     "text": [
      "0.882701995048\n"
     ]
    }
   ],
   "source": [
    "estimator=LogisticRegression(penalty='l2', random_state = 0, class_weight='balanced', n_jobs=4)\n",
    "optimizer = GridSearchCV(estimator, param_grid, scoring = 'accuracy', cv=cv)\n",
    "optimizer.fit(X_train_enhanced,y_train_enhanced)\n",
    "print 'Метки функции предсказаний:\\n'\n",
    "print y_test[:10]\n",
    "print optimizer.predict(dataMean_test)[:10]\n",
    "print 'Лучшая функция:\\n'\n",
    "print optimizer.best_estimator_\n",
    "print 'Коэффициенты лучшей функции:\\n'\n",
    "print optimizer.best_estimator_.coef_\n",
    "print 'Лучший параметр функции:\\n'\n",
    "print optimizer.best_params_\n",
    "plot_scores(optimizer)\n",
    "auc_mean_enhanced=roc_auc_score(y_test, optimizer.predict_proba(dataMean_test)[:,1])\n",
    "print auc_mean_enhanced"
   ]
  },
  {
   "cell_type": "code",
   "execution_count": 41,
   "metadata": {
    "collapsed": true
   },
   "outputs": [],
   "source": [
    "def write_answer_3(auc_1, auc_2):\n",
    "    auc = (auc_1 + auc_2) / 2\n",
    "    with open(\"preprocessing_lr_answer3.txt\", \"w\") as fout:\n",
    "        fout.write(str(auc))\n",
    "        \n",
    "write_answer_3(auc_mean_2, auc_mean_enhanced)"
   ]
  },
  {
   "cell_type": "markdown",
   "metadata": {},
   "source": [
    "## Задание 4. Стратификация выборки.\n",
    "\n",
    "1. Разбейте выборки X_real_zeros и X_cat_oh на обучение и тест, применяя стратификацию.\n",
    "2. Выполните масштабирование новых вещественных выборок, обучите классификатор и его гиперпараметры при помощи метода кросс-валидации, делая поправку на несбалансированные классы при помощи весов. Убедитесь в том, что нашли оптимум accuracy по гиперпараметрам.\n",
    "3. Оцените качество классификатора метрике AUC ROC на тестовой выборке.\n",
    "4. Полученный ответ передайте функции write_answer_4"
   ]
  },
  {
   "cell_type": "code",
   "execution_count": 44,
   "metadata": {
    "collapsed": true
   },
   "outputs": [],
   "source": [
    "from sklearn.linear_model import LogisticRegression\n",
    "from sklearn.grid_search import GridSearchCV\n",
    "from sklearn.metrics import roc_auc_score"
   ]
  },
  {
   "cell_type": "code",
   "execution_count": 45,
   "metadata": {
    "collapsed": false
   },
   "outputs": [],
   "source": [
    "from sklearn.cross_validation import train_test_split\n",
    "\n",
    "(X_train_real_zeros_str, \n",
    " X_test_real_zeros_str, \n",
    " y_train_str, y_test_str) = train_test_split(X_real_zeros, y, \n",
    "                                             stratify=y, \n",
    "                                     test_size=0.3, \n",
    "                                     random_state=0)\n",
    "(X_train_cat_oh_str,\n",
    " X_test_cat_oh_str) = train_test_split(X_cat_oh,stratify=y,\n",
    "                                   test_size=0.3, \n",
    "                                   random_state=0)\n",
    "\n"
   ]
  },
  {
   "cell_type": "code",
   "execution_count": 46,
   "metadata": {
    "collapsed": false
   },
   "outputs": [],
   "source": [
    "from sklearn.preprocessing import StandardScaler\n",
    "scaler = StandardScaler()\n",
    "X_train_real_scaled_str=scaler.fit_transform(X_train_real_zeros_str)\n",
    "X_test_real_scaled_str=scaler.transform(X_test_real_zeros_str)"
   ]
  },
  {
   "cell_type": "code",
   "execution_count": 48,
   "metadata": {
    "collapsed": false
   },
   "outputs": [],
   "source": [
    "dataZeros_train_str = np.hstack((X_train_real_scaled_str,X_train_cat_oh_str))\n",
    "dataZeros_test_str = np.hstack((X_test_real_scaled_str,X_test_cat_oh_str))"
   ]
  },
  {
   "cell_type": "code",
   "execution_count": 50,
   "metadata": {
    "collapsed": false
   },
   "outputs": [
    {
     "name": "stdout",
     "output_type": "stream",
     "text": [
      "Метки функции предсказаний:\n",
      "\n",
      "3068    0\n",
      "3835    0\n",
      "4872    0\n",
      "2009    0\n",
      "5197    0\n",
      "2912    0\n",
      "5988    1\n",
      "2584    0\n",
      "3776    1\n",
      "4779    0\n",
      "Name: Grant.Status, dtype: int64\n",
      "[0 0 0 0 1 0 1 0 1 0]\n",
      "Лучшая функция:\n",
      "\n",
      "LogisticRegression(C=0.1, class_weight='balanced', dual=False,\n",
      "          fit_intercept=True, intercept_scaling=1, max_iter=100,\n",
      "          multi_class='ovr', n_jobs=4, penalty='l2', random_state=0,\n",
      "          solver='liblinear', tol=0.0001, verbose=0, warm_start=False)\n",
      "Коэффициенты лучшей функции:\n",
      "\n",
      "[[-0.00496596  0.02252652 -0.0381082  ...,  1.12004444  0.14868921\n",
      "  -0.05885386]]\n",
      "Лучший параметр функции:\n",
      "\n",
      "{'C': 0.1}\n",
      "параметр accuracy -  0.801666666667\n"
     ]
    },
    {
     "data": {
      "image/png": "[encoded data removed]",
      "text/plain": [
       "<matplotlib.figure.Figure at 0xb30fe48>"
      ]
     },
     "metadata": {},
     "output_type": "display_data"
    },
    {
     "name": "stdout",
     "output_type": "stream",
     "text": [
      "0.87934871305\n"
     ]
    }
   ],
   "source": [
    "estimator=LogisticRegression(penalty='l2', random_state = 0, class_weight='balanced', n_jobs=4)\n",
    "optimizer = GridSearchCV(estimator, param_grid, scoring = 'accuracy', cv=cv)\n",
    "optimizer.fit(dataZeros_train_str,y_train_str)\n",
    "print 'Метки функции предсказаний:\\n'\n",
    "print y_test_str[:10]\n",
    "print optimizer.predict(dataZeros_test_str)[:10]\n",
    "print 'Лучшая функция:\\n'\n",
    "print optimizer.best_estimator_\n",
    "print 'Коэффициенты лучшей функции:\\n'\n",
    "print optimizer.best_estimator_.coef_\n",
    "print 'Лучший параметр функции:\\n'\n",
    "print optimizer.best_params_\n",
    "print 'параметр accuracy - ',optimizer.best_score_\n",
    "plot_scores(optimizer)\n",
    "auc_mean_str=roc_auc_score(y_test_str, optimizer.predict_proba(dataZeros_test_str)[:,1])\n",
    "print auc_mean_str"
   ]
  },
  {
   "cell_type": "code",
   "execution_count": 51,
   "metadata": {
    "collapsed": true
   },
   "outputs": [],
   "source": [
    "def write_answer_4(auc):\n",
    "    with open(\"preprocessing_lr_answer4.txt\", \"w\") as fout:\n",
    "        fout.write(str(auc))\n",
    "        \n",
    "write_answer_4(auc_mean_str)"
   ]
  },
  {
   "cell_type": "markdown",
   "metadata": {},
   "source": [
    "## Задание 5. Трансформация вещественных признаков.\n",
    "\n",
    "1. Реализуйте преобразование вещественных признаков модели при помощи полиномиальных признаков степени 2\n",
    "2. Постройте логистическую регрессию на новых данных, одновременно подобрав оптимальные гиперпараметры. Обращаем внимание, что в преобразованных признаках уже присутствует столбец, все значения которого равны 1, поэтому обучать дополнительно значение $b$ не нужно, его функцию выполняет один из весов $w$. В связи с этим во избежание линейной зависимости в датасете, в вызов класса логистической регрессии требуется передавать параметр fit_intercept=False. Для обучения используйте стратифицированные выборки с балансировкой классов при помощи весов, преобразованные признаки требуется заново отмасштабировать.\n",
    "3. Получите AUC ROC на тесте и сравните данный результат с использованием обычных признаков.\n",
    "4. Передайте полученный ответ в функцию write_answer_5."
   ]
  },
  {
   "cell_type": "code",
   "execution_count": 56,
   "metadata": {
    "collapsed": true
   },
   "outputs": [],
   "source": [
    "(X_train_poly, \n",
    " X_test_poly, \n",
    " y_train_poly, y_test_poly) = train_test_split(X_real_zeros, y, \n",
    "                                             stratify=y, \n",
    "                                     test_size=0.3, \n",
    "                                     random_state=0)\n",
    "(X_train_cat_oh_poly,\n",
    " X_test_cat_oh_poly) = train_test_split(X_cat_oh, stratify=y,\n",
    "                                   test_size=0.3, \n",
    "                                   random_state=0)"
   ]
  },
  {
   "cell_type": "code",
   "execution_count": 58,
   "metadata": {
    "collapsed": false
   },
   "outputs": [],
   "source": [
    "from sklearn.preprocessing import PolynomialFeatures\n",
    "transform_str = PolynomialFeatures(2)\n",
    "Data_train_poly = transform_str.fit_transform(X_train_poly)\n",
    "Data_test_poly = transform_str.transform(X_test_poly)"
   ]
  },
  {
   "cell_type": "code",
   "execution_count": 59,
   "metadata": {
    "collapsed": true
   },
   "outputs": [],
   "source": [
    "scaler2 = StandardScaler()\n",
    "X_train_poly_2 = scaler2.fit_transform(Data_train_poly)\n",
    "X_test_poly_2=scaler2.transform(Data_test_poly)"
   ]
  },
  {
   "cell_type": "code",
   "execution_count": 60,
   "metadata": {
    "collapsed": true
   },
   "outputs": [],
   "source": [
    "dataZeros_train_poly = np.hstack((X_train_poly_2,X_train_cat_oh_poly))\n",
    "dataZeros_test_poly = np.hstack((X_test_poly_2,X_test_cat_oh_poly))"
   ]
  },
  {
   "cell_type": "code",
   "execution_count": 61,
   "metadata": {
    "collapsed": false
   },
   "outputs": [
    {
     "name": "stdout",
     "output_type": "stream",
     "text": [
      "Метки функции предсказаний:\n",
      "\n",
      "3068    0\n",
      "3835    0\n",
      "4872    0\n",
      "2009    0\n",
      "5197    0\n",
      "2912    0\n",
      "5988    1\n",
      "2584    0\n",
      "3776    1\n",
      "4779    0\n",
      "Name: Grant.Status, dtype: int64\n",
      "[0 0 0 0 0 0 1 0 1 0]\n",
      "Лучшая функция:\n",
      "\n",
      "LogisticRegression(C=0.1, class_weight='balanced', dual=False,\n",
      "          fit_intercept=False, intercept_scaling=1, max_iter=100,\n",
      "          multi_class='ovr', n_jobs=-1, penalty='l2', random_state=0,\n",
      "          solver='liblinear', tol=0.0001, verbose=0, warm_start=False)\n",
      "Коэффициенты лучшей функции:\n",
      "\n",
      "[[ 0.         -0.00349982 -0.03242989 ...,  1.14647476  0.14884825\n",
      "  -0.07101156]]\n",
      "Лучший параметр функции:\n",
      "\n",
      "{'C': 0.1}\n"
     ]
    },
    {
     "data": {
      "image/png": "[encoded data removed]",
      "text/plain": [
       "<matplotlib.figure.Figure at 0x12f59e8>"
      ]
     },
     "metadata": {},
     "output_type": "display_data"
    },
    {
     "name": "stdout",
     "output_type": "stream",
     "text": [
      "0.886995034307\n"
     ]
    }
   ],
   "source": [
    "estimator=LogisticRegression(penalty='l2', random_state = 0, class_weight='balanced', n_jobs=-1, fit_intercept=False)\n",
    "optimizer = GridSearchCV(estimator, param_grid, scoring = 'accuracy', cv=cv)\n",
    "optimizer.fit(dataZeros_train_poly,y_train_poly)\n",
    "print 'Метки функции предсказаний:\\n'\n",
    "print y_test_poly[:10]\n",
    "print optimizer.predict(dataZeros_test_poly)[:10]\n",
    "print 'Лучшая функция:\\n'\n",
    "print optimizer.best_estimator_\n",
    "print 'Коэффициенты лучшей функции:\\n'\n",
    "print optimizer.best_estimator_.coef_\n",
    "print 'Лучший параметр функции:\\n'\n",
    "print optimizer.best_params_\n",
    "plot_scores(optimizer)\n",
    "auc_zeros_str_poly=roc_auc_score(y_test_poly, optimizer.predict_proba(dataZeros_test_poly)[:,1])\n",
    "print auc_zeros_str_poly"
   ]
  },
  {
   "cell_type": "code",
   "execution_count": 62,
   "metadata": {
    "collapsed": true
   },
   "outputs": [],
   "source": [
    "def write_answer_5(auc):\n",
    "    with open(\"preprocessing_lr_answer5.txt\", \"w\") as fout:\n",
    "        fout.write(str(auc))\n",
    "        \n",
    "write_answer_5(auc_zeros_str_poly)"
   ]
  },
  {
   "cell_type": "markdown",
   "metadata": {},
   "source": [
    "## Задание 6. Отбор признаков при помощи регрессии Lasso.\n",
    "1. Обучите регрессию Lasso на стратифицированных отмасштабированных выборках, используя балансировку классов при помощи весов.\n",
    "2. Получите ROC AUC регрессии, сравните его с предыдущими результатами.\n",
    "3. Найдите номера вещественных признаков, которые имеют нулевые веса в итоговой модели.\n",
    "4. Передайте их список функции write_answer_6."
   ]
  },
  {
   "cell_type": "code",
   "execution_count": 63,
   "metadata": {
    "collapsed": true
   },
   "outputs": [],
   "source": [
    "(X_train_real_zeros_lasso, \n",
    " X_test_real_zeros_lasso, \n",
    " y_train_lasso, y_test_lasso) = train_test_split(X_real_zeros, y, \n",
    "                                             stratify=y, \n",
    "                                     test_size=0.3, \n",
    "                                     random_state=0)\n",
    "(X_train_cat_oh_lasso,\n",
    " X_test_cat_oh_lasso) = train_test_split(X_cat_oh, stratify=y,\n",
    "                                   test_size=0.3, \n",
    "                                   random_state=0)\n",
    "\n"
   ]
  },
  {
   "cell_type": "code",
   "execution_count": 64,
   "metadata": {
    "collapsed": true
   },
   "outputs": [],
   "source": [
    "scaler = StandardScaler()\n",
    "X_train_real_scaled_lasso=scaler.fit_transform(X_train_real_zeros_lasso)\n",
    "X_test_real_scaled_lasso=scaler.transform(X_test_real_zeros_lasso)"
   ]
  },
  {
   "cell_type": "code",
   "execution_count": 65,
   "metadata": {
    "collapsed": true
   },
   "outputs": [],
   "source": [
    "dataZeros_train_lasso = np.hstack((X_train_real_scaled_lasso,X_train_cat_oh_str))\n",
    "dataZeros_test_lasso = np.hstack((X_test_real_scaled_lasso,X_test_cat_oh_str))"
   ]
  },
  {
   "cell_type": "code",
   "execution_count": 66,
   "metadata": {
    "collapsed": false,
    "scrolled": false
   },
   "outputs": [
    {
     "name": "stdout",
     "output_type": "stream",
     "text": [
      "Метки функции предсказаний:\n",
      "\n",
      "3068    0\n",
      "3835    0\n",
      "4872    0\n",
      "2009    0\n",
      "5197    0\n",
      "2912    0\n",
      "5988    1\n",
      "2584    0\n",
      "3776    1\n",
      "4779    0\n",
      "Name: Grant.Status, dtype: int64\n",
      "[0 0 0 0 1 0 1 0 1 0]\n",
      "Лучшая функция:\n",
      "\n",
      "LogisticRegression(C=0.5, class_weight='balanced', dual=False,\n",
      "          fit_intercept=True, intercept_scaling=1, max_iter=100,\n",
      "          multi_class='ovr', n_jobs=4, penalty='l1', random_state=0,\n",
      "          solver='liblinear', tol=0.0001, verbose=0, warm_start=False)\n",
      "Коэффициенты лучшей функции:\n",
      "\n",
      "[ 0.          0.         -0.05367849 -0.06496186 -0.0201857   0.          0.\n",
      "  0.          0.01768474 -0.0013601   0.20829714  0.93246268 -1.24142918]\n",
      "Лучший параметр функции:\n",
      "\n",
      "{'C': 0.5}\n"
     ]
    },
    {
     "data": {
      "image/png": "[encoded data removed]",
      "text/plain": [
       "<matplotlib.figure.Figure at 0xc47c4e0>"
      ]
     },
     "metadata": {},
     "output_type": "display_data"
    },
    {
     "name": "stdout",
     "output_type": "stream",
     "text": [
      "0.880668502679\n"
     ]
    }
   ],
   "source": [
    "estimator=LogisticRegression(penalty='l1', random_state = 0, class_weight='balanced', n_jobs=4)\n",
    "optimizer = GridSearchCV(estimator, param_grid, scoring = 'accuracy', cv=cv)\n",
    "optimizer.fit(dataZeros_train_lasso,y_train_str)\n",
    "print 'Метки функции предсказаний:\\n'\n",
    "print y_test_str[:10]\n",
    "print optimizer.predict(dataZeros_test_lasso)[:10]\n",
    "print 'Лучшая функция:\\n'\n",
    "print optimizer.best_estimator_\n",
    "print 'Коэффициенты лучшей функции:\\n'\n",
    "print optimizer.best_estimator_.coef_[0][:13]\n",
    "print 'Лучший параметр функции:\\n'\n",
    "print optimizer.best_params_\n",
    "plot_scores(optimizer)\n",
    "auc_zero_lasso=roc_auc_score(y_test_str, optimizer.predict_proba(dataZeros_test_lasso)[:,1])\n",
    "print auc_zero_lasso"
   ]
  },
  {
   "cell_type": "code",
   "execution_count": 67,
   "metadata": {
    "collapsed": false
   },
   "outputs": [
    {
     "data": {
      "text/plain": [
       "array([ 0.        ,  0.        , -0.05367849, ...,  2.01983571,\n",
       "        0.23330275,  0.        ])"
      ]
     },
     "execution_count": 67,
     "metadata": {},
     "output_type": "execute_result"
    }
   ],
   "source": [
    "optimizer.best_estimator_.coef_[0,:,]"
   ]
  },
  {
   "cell_type": "code",
   "execution_count": 68,
   "metadata": {
    "collapsed": true
   },
   "outputs": [],
   "source": [
    "def write_answer_6(features):\n",
    "    with open(\"preprocessing_lr_answer6.txt\", \"w\") as fout:\n",
    "        fout.write(\" \".join([str(num) for num in features]))\n",
    "        \n",
    "write_answer_6(optimizer.best_estimator_.coef_[0][:13])"
   ]
  }
 ],
 "metadata": {
  "kernelspec": {
   "display_name": "Python 2",
   "language": "python",
   "name": "python2"
  },
  "language_info": {
   "codemirror_mode": {
    "name": "ipython",
    "version": 2
   },
   "file_extension": ".py",
   "mimetype": "text/x-python",
   "name": "python",
   "nbconvert_exporter": "python",
   "pygments_lexer": "ipython2",
   "version": "2.7.11"
  }
 },
 "nbformat": 4,
 "nbformat_minor": 0
}
