{
 "cells": [
  {
   "cell_type": "markdown",
   "metadata": {},
   "source": [
    "# Практика применения градиентного бустинга (Gradient Boosting)"
   ]
  },
  {
   "cell_type": "raw",
   "metadata": {},
   "source": [
    "В этом задании будет использоваться датасет boston из sklearn.datasets.\n",
    "\n",
    "Целью задания будет реализовать простой вариант градиентного бустинга над регрессионными деревьями для случая квадратичной функции потерь."
   ]
  },
  {
   "cell_type": "raw",
   "metadata": {},
   "source": [
    "Задание 1\n",
    "\n",
    "Бустинг - это метод построения композиций базовых алгоритмов с помощью последовательного добавления к текущей композиции нового алгоритма с некоторым коэффициентом. Градиентный бустинг обучает каждый новый алгоритм так, чтобы он приближал антиградиент ошибки по ответам композиции на обучающей выборке. Аналогично минимизации функций методом градиентного спуска, в градиентном бустинге мы подправляем композицию, изменяя алгоритм в направлении антиградиента ошибки. Воспользуйтесь формулой и получите частный ее случай, если функция потерь L - квадрат отклонения ответа композиции a(x) от правильного ответа y на данном x."
   ]
  },
  {
   "cell_type": "raw",
   "metadata": {},
   "source": [
    "Задание 2\n",
    "\n",
    "Заведите массив для объектов DecisionTreeRegressor (будем их использовать в качестве базовых алгоритмов) и для вещественных чисел (это будут коэффициенты перед базовыми алгоритмами). В цикле обучите последовательно 50 решающих деревьев с параметрами max_depth=5 и random_state=42 (остальные параметры - по умолчанию). В бустинге зачастую используются сотни и тысячи деревьев, но мы ограничимся 50, чтобы алгоритм работал быстрее, и его было проще отлаживать (т.к. цель задания разобраться, как работает метод). Каждое дерево должно обучаться на одном и том же множестве объектов, но ответы, которые учится прогнозировать дерево, будут меняться в соответствие с полученным в задании 1 правилом. Попробуйте для начала всегда брать коэффициент равным 0.9. Обычно оправдано выбирать коэффициент значительно меньшим - порядка 0.05 или 0.1, но т.к. в нашем учебном примере на стандартном датасете будет всего 50 деревьев, возьмем для начала шаг побольше.\n",
    "\n",
    "В процессе реализации обучения вам потребуется функция, которая будет вычислять прогноз построенной на данный момент композиции деревьев на выборке X:\n",
    "\n",
    "def gbm_predict(X):\n",
    "    return [sum([coeff * algo.predict([x])[0] for algo, coeff in zip(base_algorithms_list, coefficients_list)]) for x in X]\n",
    "    \n",
    "(считаем, что base_algorithms_list - список с базовыми алгоритмами, coefficients_list - список с коэффициентами перед алгоритмами)\n",
    "\n",
    "Эта же функция поможет вам получить прогноз на контрольной выборке и оценить качество работы вашего алгоритма с помощью mean_squared_error в sklearn.metrics. Возведите результат в степень 0.5, чтобы получить RMSE. Полученное значение RMSE — ответ в пункте 2."
   ]
  },
  {
   "cell_type": "raw",
   "metadata": {},
   "source": [
    "Задание 3\n",
    "\n",
    "Вас может также беспокоить, что двигаясь с постоянным шагом, вблизи минимума ошибки ответы на обучающей выборке меняются слишком резко, перескакивая через минимум. Попробуйте уменьшать вес перед каждым алгоритмом с каждой следующей итерацией по формуле 0.9 / (1.0 + i), где i - номер итерации (от 0 до 49). Используйте качество работы алгоритма как ответ в пункте 3. В реальности часто применяется следующая стратегия выбора шага: как только выбран алгоритм, подберем коэффициент перед ним численным методом оптимизации таким образом, чтобы отклонение от правильных ответов было минимальным. Мы не будем предлагать вам реализовать это для выполнения задания, но рекомендуем попробовать разобраться с такой стратегией и реализовать ее при случае для себя."
   ]
  },
  {
   "cell_type": "raw",
   "metadata": {},
   "source": [
    "Задание 4\n",
    "\n",
    "Реализованный вами метод - градиентный бустинг над деревьями - очень популярен в машинном обучении. Он представлен как в самой библиотеке sklearn, так и в сторонней библиотеке XGBoost, которая имеет свой питоновский интерфейс. На практике XGBoost работает заметно лучше GradientBoostingRegressor из sklearn, но для этого задания вы можете использовать любую реализацию. Исследуйте, переобучается ли градиентный бустинг с ростом числа итераций (и подумайте, почему)."
   ]
  },
  {
   "cell_type": "raw",
   "metadata": {},
   "source": [
    "Задание 5\n",
    "\n",
    "Сравните получаемое с помощью градиентного бустинга качество с качеством работы линейной регрессии. Для этого обучите LinearRegression из sklearn.linear_model (с параметрами по умолчанию) на обучающей выборке и оцените для прогнозов полученного алгоритма на тестовой выборке RMSE. Полученное качество - ответ в пункте 5. В данном примере качество работы простой модели должно было оказаться хуже, но не стоит забывать, что так бывает не всегда."
   ]
  },
  {
   "cell_type": "code",
   "execution_count": 22,
   "metadata": {
    "collapsed": false
   },
   "outputs": [
    {
     "name": "stdout",
     "output_type": "stream",
     "text": [
      "Populating the interactive namespace from numpy and matplotlib\n"
     ]
    },
    {
     "name": "stderr",
     "output_type": "stream",
     "text": [
      "WARNING: pylab import has clobbered these variables: ['clf', 'plt']\n",
      "`%matplotlib` prevents importing * from pylab and numpy\n"
     ]
    }
   ],
   "source": [
    "import numpy as np\n",
    "import pandas as pd\n",
    "import scipy\n",
    "import sklearn\n",
    "from matplotlib import pylab as plt\n",
    "from sklearn import datasets\n",
    "from sklearn import ensemble,cross_validation, datasets, metrics, tree, learning_curve, linear_model\n",
    "\n",
    "%pylab inline"
   ]
  },
  {
   "cell_type": "code",
   "execution_count": 3,
   "metadata": {
    "collapsed": false
   },
   "outputs": [],
   "source": [
    "data=datasets.load_boston()"
   ]
  },
  {
   "cell_type": "code",
   "execution_count": 4,
   "metadata": {
    "collapsed": false
   },
   "outputs": [],
   "source": [
    "X=np.array(data['data'])\n",
    "y=np.array(data['target'])"
   ]
  },
  {
   "cell_type": "code",
   "execution_count": 5,
   "metadata": {
    "collapsed": false
   },
   "outputs": [
    {
     "name": "stdout",
     "output_type": "stream",
     "text": [
      "(506L, 13L)\n",
      "(506L,)\n"
     ]
    }
   ],
   "source": [
    "print X.shape\n",
    "print y.shape"
   ]
  },
  {
   "cell_type": "code",
   "execution_count": 6,
   "metadata": {
    "collapsed": false
   },
   "outputs": [],
   "source": [
    "#Делим обучающую и тестовую выборки (примерно 25%)\n",
    "X_train=X[:380]\n",
    "X_test=X[380:]\n",
    "y_train=y[:380]\n",
    "y_test=y[380:]"
   ]
  },
  {
   "cell_type": "code",
   "execution_count": 7,
   "metadata": {
    "collapsed": false
   },
   "outputs": [
    {
     "data": {
      "text/plain": [
       "(380L, 13L)"
      ]
     },
     "execution_count": 7,
     "metadata": {},
     "output_type": "execute_result"
    }
   ],
   "source": [
    "X_train.shape"
   ]
  },
  {
   "cell_type": "code",
   "execution_count": 8,
   "metadata": {
    "collapsed": true
   },
   "outputs": [],
   "source": [
    "n_trees = range(50)\n",
    "base_algorithms_list=[tree.DecisionTreeRegressor(max_depth=5, random_state=42) for i in range(50)]\n",
    "coefficients_list=[0.9 for i in range(50)]\n",
    "\n",
    "def gbm_predict(X):\n",
    "    return [sum([coeff * algo.predict([x])[0] for algo, coeff in zip(base_algorithms_list, coefficients_list)]) for x in X]\n",
    "\n",
    "def write_answer_to_file(answer, filename):\n",
    "    with open(filename, 'w') as f_out:\n",
    "        f_out.write(str(answer))"
   ]
  },
  {
   "cell_type": "code",
   "execution_count": 9,
   "metadata": {
    "collapsed": false
   },
   "outputs": [
    {
     "name": "stdout",
     "output_type": "stream",
     "text": [
      "MSE на тестовой выборке: 5.45547207453\n"
     ]
    }
   ],
   "source": [
    "base_algorithms_list  = []#список базовых алгоритмов\n",
    "coefficients_list = []#список коэффициентов\n",
    "mean_sq_err=[]#MSE - среднеквадратичная ошибка\n",
    "gbm_predict_lst=[]\n",
    "eta = 0.9\n",
    "#начальный алгоритм\n",
    "a_0 = tree.DecisionTreeRegressor(max_depth=5 , random_state=42)\n",
    "a_0.fit(X_train, y_train)\n",
    "base_algorithms_list.append(a_0)\n",
    "coefficients_list.append(eta)\n",
    "s=0\n",
    "for k in range(49):\n",
    "    s = y_train-gbm_predict(X_train)\n",
    "    clf = tree.DecisionTreeRegressor(max_depth=5, random_state=42)\n",
    "    clf.fit(X_train, s)\n",
    "    base_algorithms_list.append(clf)\n",
    "    coefficients_list.append(eta)\n",
    "    m = (metrics.mean_squared_error(y_test, gbm_predict(X_test)))**0.5\n",
    "    mean_sq_err.append(m)\n",
    "print 'MSE на тестовой выборке:', m\n",
    "\n",
    "#print 'MSE какие-были ',mean_sq_err"
   ]
  },
  {
   "cell_type": "code",
   "execution_count": 17,
   "metadata": {
    "collapsed": false
   },
   "outputs": [],
   "source": [
    "write_answer_to_file(m,'ans_week_4_2.txt')"
   ]
  },
  {
   "cell_type": "code",
   "execution_count": 14,
   "metadata": {
    "collapsed": false
   },
   "outputs": [
    {
     "name": "stdout",
     "output_type": "stream",
     "text": [
      "MSE на тестовой выборке: 5.24074258415\n"
     ]
    }
   ],
   "source": [
    "base_algorithms_list  = []\n",
    "coefficients_list = []\n",
    "mean_sq_err=[]\n",
    "gbm_predict_lst=[]\n",
    "eta = 0.9/(1.0 + 0)\n",
    "#начальный алгоритм\n",
    "a_0 = tree.DecisionTreeRegressor(max_depth=5 , random_state=42)\n",
    "a_0.fit(X_train, y_train)\n",
    "base_algorithms_list.append(a_0)\n",
    "coefficients_list.append(eta)\n",
    "s=0\n",
    "for k in range(49):\n",
    "    s = y_train-gbm_predict(X_train)\n",
    "    clf = tree.DecisionTreeRegressor(max_depth=5, random_state=42)\n",
    "    clf.fit(X_train, s)\n",
    "    base_algorithms_list.append(clf)\n",
    "    coefficients_list.append((eta/(1.0 + (k+1))))\n",
    "    m2 = (metrics.mean_squared_error(y_test, gbm_predict(X_test)))**0.5\n",
    "    mean_sq_err.append(m2)\n",
    "print 'MSE на тестовой выборке:', m2\n",
    "\n",
    "#print 'MSE какие-были ',mean_sq_err"
   ]
  },
  {
   "cell_type": "code",
   "execution_count": 17,
   "metadata": {
    "collapsed": true
   },
   "outputs": [],
   "source": [
    "write_answer_to_file(m2,'ans_week_4_3.txt')"
   ]
  },
  {
   "cell_type": "code",
   "execution_count": 18,
   "metadata": {
    "collapsed": false
   },
   "outputs": [
    {
     "name": "stdout",
     "output_type": "stream",
     "text": [
      "MSE на тестовой выборке: 5.29645701182\n"
     ]
    }
   ],
   "source": [
    "base_algorithms_list  = []\n",
    "coefficients_list = []\n",
    "mean_sq_err=[]\n",
    "gbm_predict_lst=[]\n",
    "eta = 0.9/(1.0 + 0)\n",
    "#начальный алгоритм\n",
    "a_0 = tree.DecisionTreeRegressor(max_depth=5 , random_state=42)\n",
    "a_0.fit(X_train, y_train)\n",
    "base_algorithms_list.append(a_0)\n",
    "coefficients_list.append(eta)\n",
    "s=0\n",
    "for k in range(199):\n",
    "    s = y_train-gbm_predict(X_train)\n",
    "    clf = tree.DecisionTreeRegressor(max_depth=5, random_state=42)\n",
    "    clf.fit(X_train, s)\n",
    "    base_algorithms_list.append(clf)\n",
    "    coefficients_list.append((eta/(1.0 + (k+1))))\n",
    "    m2 = (metrics.mean_squared_error(y_test, gbm_predict(X_test)))**0.5\n",
    "    mean_sq_err.append(m2)\n",
    "print 'MSE на тестовой выборке:', m2"
   ]
  },
  {
   "cell_type": "raw",
   "metadata": {},
   "source": [
    "Согласно эксперименту выше с ростом числа деревьев (в данном случае композиция составила 200 деревьев в сравнении с 50 из предыдущего) видно, что RMSE начала расти (хоть и не существенно(на 0.05), но всё-таки)."
   ]
  },
  {
   "cell_type": "code",
   "execution_count": 19,
   "metadata": {
    "collapsed": false
   },
   "outputs": [
    {
     "name": "stdout",
     "output_type": "stream",
     "text": [
      "MSE на тестовой выборке: 6.1315820954\n"
     ]
    }
   ],
   "source": [
    "base_algorithms_list  = []\n",
    "coefficients_list = []\n",
    "mean_sq_err=[]\n",
    "gbm_predict_lst=[]\n",
    "eta = 0.9/(1.0 + 0)\n",
    "#начальный алгоритм\n",
    "a_0 = tree.DecisionTreeRegressor(max_depth=15 , random_state=42)\n",
    "a_0.fit(X_train, y_train)\n",
    "base_algorithms_list.append(a_0)\n",
    "coefficients_list.append(eta)\n",
    "s=0\n",
    "for k in range(49):\n",
    "    s = y_train-gbm_predict(X_train)\n",
    "    clf = tree.DecisionTreeRegressor(max_depth=15, random_state=42)\n",
    "    clf.fit(X_train, s)\n",
    "    base_algorithms_list.append(clf)\n",
    "    coefficients_list.append((eta/(1.0 + (k+1))))\n",
    "    m2 = (metrics.mean_squared_error(y_test, gbm_predict(X_test)))**0.5\n",
    "    mean_sq_err.append(m2)\n",
    "print 'MSE на тестовой выборке:', m2"
   ]
  },
  {
   "cell_type": "raw",
   "metadata": {},
   "source": [
    "Судя по данным выше увеличение глубины деревьев приводит к более серьезному ухудшению композиции, чем рост их числа, переобучение увеличивается гораздо заметнее (в алгоритме в глубиной 5 RMSE = 5.24074258415, с глубиной 15 - 6.1315820954)."
   ]
  },
  {
   "cell_type": "code",
   "execution_count": 20,
   "metadata": {
    "collapsed": true
   },
   "outputs": [],
   "source": [
    "write_answer_to_file('2 3','ans_week_4_4.txt')"
   ]
  },
  {
   "cell_type": "code",
   "execution_count": 23,
   "metadata": {
    "collapsed": false
   },
   "outputs": [
    {
     "name": "stdout",
     "output_type": "stream",
     "text": [
      "RMSE на тестовой выборке с линейной регрессией: 7.84812179648\n"
     ]
    }
   ],
   "source": [
    "linear_regressor = linear_model.LinearRegression()\n",
    "linear_regressor.fit(X_train, y_train)\n",
    "m_linear = (metrics.mean_squared_error(y_test, linear_regressor.predict(X_test)))**0.5\n",
    "print 'RMSE на тестовой выборке с линейной регрессией:', m_linear"
   ]
  },
  {
   "cell_type": "code",
   "execution_count": 24,
   "metadata": {
    "collapsed": true
   },
   "outputs": [],
   "source": [
    "write_answer_to_file(m_linear,'ans_week_4_5.txt')"
   ]
  }
 ],
 "metadata": {
  "kernelspec": {
   "display_name": "Python 2",
   "language": "python",
   "name": "python2"
  },
  "language_info": {
   "codemirror_mode": {
    "name": "ipython",
    "version": 2
   },
   "file_extension": ".py",
   "mimetype": "text/x-python",
   "name": "python",
   "nbconvert_exporter": "python",
   "pygments_lexer": "ipython2",
   "version": "2.7.11"
  }
 },
 "nbformat": 4,
 "nbformat_minor": 0
}
